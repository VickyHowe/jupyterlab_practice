{
 "cells": [
  {
   "cell_type": "markdown",
   "id": "c5eb39ec-7112-4dfb-9f25-cae299f7fdc6",
   "metadata": {},
   "source": [
    "# Marie (Vicky) Howe\n",
    "Notebook for assignment 7"
   ]
  },
  {
   "cell_type": "code",
   "execution_count": 6,
   "id": "1ef04bbd-722f-46f4-bd41-c5c1e17252d9",
   "metadata": {},
   "outputs": [
    {
     "data": {
      "text/plain": [
       "5.0"
      ]
     },
     "execution_count": 6,
     "metadata": {},
     "output_type": "execute_result"
    }
   ],
   "source": [
    "def compute_mean (list_of_numbers):\n",
    "    if len(list_of_numbers) == 0:\n",
    "        return 0\n",
    "    return sum(list_of_numbers) / len(list_of_numbers)    \n",
    "    \n",
    "compute_mean([2, 4, 6, 8])"
   ]
  },
  {
   "cell_type": "markdown",
   "id": "1d427a44-8cb7-4c0a-8a28-93f1bdccf375",
   "metadata": {},
   "source": [
    "### Description compute_mean() Function    \n",
    "This function returns the mean value from a list of numbers\n",
    "\n",
    "### Parameters:\n",
    "    A list of numbers in type int or float\n",
    "\n",
    "### Returns:\n",
    "    The mean value is calculated by:  \n",
    "\n",
    "<p style=\"text-align:center\"> $\\bar{x} = \\frac{1}{n} \\sum_{i=1}^{n} x_i$ </p>\n",
    "\n",
    "\n",
    "or\n",
    "\n",
    "$$\n",
    "\\bar{x} = \\left(\\frac{x_1 + x_2 + \\cdots + x_n}{n}\\right)\n",
    "$$\n",
    "\n",
    "    Returning the mean of the list_of_neumbers as type float.\n",
    "\n",
    "### Example\n",
    "```python\n",
    ">>> compute_mean([2, 4, 6, 8])\n",
    "5.0\n",
    "```\n"
   ]
  },
  {
   "cell_type": "markdown",
   "id": "1a15d2eb-3b44-49d6-a63d-6620653ebec6",
   "metadata": {},
   "source": []
  }
 ],
 "metadata": {
  "kernelspec": {
   "display_name": "Python [conda env:dstoolbox]",
   "language": "python",
   "name": "conda-env-dstoolbox-py"
  },
  "language_info": {
   "codemirror_mode": {
    "name": "ipython",
    "version": 3
   },
   "file_extension": ".py",
   "mimetype": "text/x-python",
   "name": "python",
   "nbconvert_exporter": "python",
   "pygments_lexer": "ipython3",
   "version": "3.12.4"
  }
 },
 "nbformat": 4,
 "nbformat_minor": 5
}
